{
 "cells": [
  {
   "cell_type": "code",
   "execution_count": 17,
   "id": "003a1047",
   "metadata": {
    "id": "003a1047"
   },
   "outputs": [],
   "source": [
    "from bs4 import BeautifulSoup\n",
    "import pandas as pd\n",
    "import time\n",
    "from selenium import webdriver\n",
    "from selenium.webdriver.common.keys import Keys\n",
    "from selenium.webdriver.common.by import By"
   ]
  },
  {
   "cell_type": "code",
   "execution_count": 25,
   "id": "20e72f19",
   "metadata": {
    "id": "20e72f19"
   },
   "outputs": [],
   "source": [
    "driver = webdriver.Chrome()"
   ]
  },
  {
   "cell_type": "code",
   "execution_count": 26,
   "id": "a5ffa0b3",
   "metadata": {
    "id": "a5ffa0b3"
   },
   "outputs": [],
   "source": [
    "url = 'https://search.danawa.com/dsearch.php?query=%EB%AC%B4%EC%84%A0%EC%B2%AD%EC%86%8C%EA%B8%B0&tab=main'\n",
    "driver.get(url)"
   ]
  },
  {
   "cell_type": "code",
   "execution_count": 31,
   "id": "c9ccf537",
   "metadata": {
    "id": "c9ccf537",
    "outputId": "01c8c016-8266-4581-993c-aff4ec350ec2",
    "scrolled": true
   },
   "outputs": [
    {
     "data": {
      "text/plain": [
       "44"
      ]
     },
     "execution_count": 31,
     "metadata": {},
     "output_type": "execute_result"
    }
   ],
   "source": [
    "soup = BeautifulSoup(driver.page_source, 'html.parser')\n",
    "lis = soup.select('.main_prodlist.main_prodlist_list > ul > li')\n",
    "len(lis)"
   ]
  },
  {
   "cell_type": "code",
   "execution_count": 32,
   "id": "2082352e",
   "metadata": {
    "id": "2082352e",
    "outputId": "1ddeb3df-8543-409e-84b7-e8aca5494fc4"
   },
   "outputs": [
    {
     "data": {
      "text/plain": [
       "'삼성전자 비스포크 제트 VS20A956A3'"
      ]
     },
     "execution_count": 32,
     "metadata": {},
     "output_type": "execute_result"
    }
   ],
   "source": [
    "li = lis[0]\n",
    "name = li.select_one('.click_log_product_standard_title_').get_text().strip()\n",
    "name"
   ]
  },
  {
   "cell_type": "code",
   "execution_count": 34,
   "id": "94a6f5b4",
   "metadata": {
    "id": "94a6f5b4",
    "outputId": "2c5520aa-c565-47da-cdf4-1942c829c9b2"
   },
   "outputs": [
    {
     "data": {
      "text/plain": [
       "'배터리 1개+물걸레, 침구, 펫브러쉬 제외 액세서리 4종 구성 (청소기+청정스테이션 합포장)'"
      ]
     },
     "execution_count": 34,
     "metadata": {},
     "output_type": "execute_result"
    }
   ],
   "source": [
    "spec = li.select_one('.intro_text').get_text().strip()\n",
    "spec"
   ]
  },
  {
   "cell_type": "code",
   "execution_count": 58,
   "id": "dda53c72",
   "metadata": {
    "id": "dda53c72",
    "outputId": "ea7f064c-7ced-48d8-e065-f3c67c64a74b"
   },
   "outputs": [
    {
     "data": {
      "text/plain": [
       "'458,920원'"
      ]
     },
     "execution_count": 58,
     "metadata": {},
     "output_type": "execute_result"
    }
   ],
   "source": [
    "price = li.select_one('.click_log_product_standard_price_').get_text().strip( )\n",
    "price"
   ]
  },
  {
   "cell_type": "code",
   "execution_count": 59,
   "id": "36726194",
   "metadata": {
    "id": "36726194"
   },
   "outputs": [],
   "source": [
    "lines = []\n",
    "for il in lis:\n",
    "    name = li.select_one('.click_log_product_standard_title_').get_text().strip()\n",
    "    spec = li.select_one('.intro_text').get_text().strip()\n",
    "    price = li.select_one('.click_log_product_standard_price_').get_text().strip( )\n",
    "    lines.append([name, spec, price])"
   ]
  },
  {
   "cell_type": "markdown",
   "id": "989cd696",
   "metadata": {
    "id": "989cd696"
   },
   "source": [
    "## 두번째 페이지로 이동"
   ]
  },
  {
   "cell_type": "code",
   "execution_count": 60,
   "id": "d716ec45",
   "metadata": {
    "id": "d716ec45"
   },
   "outputs": [],
   "source": [
    "driver.find_element(By.XPATH, '//*[@id=\"paginationArea\"]/div/div/a[2]').click()"
   ]
  },
  {
   "cell_type": "code",
   "execution_count": 61,
   "id": "125dba25",
   "metadata": {
    "id": "125dba25",
    "outputId": "0f8a6aa3-d50d-465e-c7a3-6d02f9f81712"
   },
   "outputs": [
    {
     "data": {
      "text/plain": [
       "10"
      ]
     },
     "execution_count": 61,
     "metadata": {},
     "output_type": "execute_result"
    }
   ],
   "source": [
    "soup = BeautifulSoup(driver.page_source, 'html.parser')\n",
    "lis = soup.select('.paging_number_wrap > a')\n",
    "len(lis)"
   ]
  },
  {
   "cell_type": "markdown",
   "id": "b7e72d5a",
   "metadata": {
    "id": "b7e72d5a"
   },
   "source": [
    "## 전체"
   ]
  },
  {
   "cell_type": "code",
   "execution_count": null,
   "id": "b5c0fbf4",
   "metadata": {
    "id": "b5c0fbf4",
    "outputId": "f3fa280b-88c1-4e7c-c9ff-230bab3eb827"
   },
   "outputs": [
    {
     "data": {
      "text/plain": [
       "'35건'"
      ]
     },
     "execution_count": 21,
     "metadata": {},
     "output_type": "execute_result"
    }
   ],
   "source": [
    "# 검색결과 건수를 가져오기\n",
    "strong = soup.select('.stations-local-after > p > strong')\n",
    "strong[1].get_text()"
   ]
  },
  {
   "cell_type": "code",
   "execution_count": null,
   "id": "f5ebcbd5",
   "metadata": {
    "id": "f5ebcbd5",
    "outputId": "35ebc30c-f3f7-4802-eba1-d27b016b53ea"
   },
   "outputs": [
    {
     "data": {
      "text/plain": [
       "35"
      ]
     },
     "execution_count": 22,
     "metadata": {},
     "output_type": "execute_result"
    }
   ],
   "source": [
    "count = int(strong[1].get_text().replace('건', '').strip())\n",
    "count"
   ]
  },
  {
   "cell_type": "code",
   "execution_count": null,
   "id": "89f94bb5",
   "metadata": {
    "id": "89f94bb5",
    "outputId": "08d3f6aa-62c8-4a88-fa0e-b17afe444da7"
   },
   "outputs": [
    {
     "data": {
      "text/plain": [
       "4"
      ]
     },
     "execution_count": 23,
     "metadata": {},
     "output_type": "execute_result"
    }
   ],
   "source": [
    "import math\n",
    "count = math.ceil(count/10)\n",
    "count"
   ]
  },
  {
   "cell_type": "markdown",
   "id": "da7461b9",
   "metadata": {
    "id": "da7461b9"
   },
   "source": [
    "# 전체 페이지"
   ]
  },
  {
   "cell_type": "code",
   "execution_count": null,
   "id": "c623bad1",
   "metadata": {
    "id": "c623bad1"
   },
   "outputs": [],
   "source": [
    "driver.get(url)\n",
    "time.sleep(1)\n",
    "driver.find_element(By.ID, 'searchKeyword').send_keys('서울')\n",
    "driver.find_element(By.ID, 'fsSearchBtn').click()"
   ]
  },
  {
   "cell_type": "code",
   "execution_count": null,
   "id": "dab0c00e",
   "metadata": {
    "id": "dab0c00e"
   },
   "outputs": [],
   "source": [
    "import math\n",
    "strong = soup.select('.stations-local-after > p > strong')\n",
    "count = int(strong[1].get_text().replace('건', '').strip())\n",
    "count = math.ceil(count/10)"
   ]
  },
  {
   "cell_type": "code",
   "execution_count": null,
   "id": "db58acc8",
   "metadata": {
    "id": "db58acc8"
   },
   "outputs": [],
   "source": [
    "lines = []\n",
    "for i in range(count):\n",
    "    if i >= 1 and i%2 == 0:\n",
    "        driver.find_element(By.CSS_SELECTOR, '.next_page').click()\n",
    "        time.sleep(2)\n",
    "    if i >= 1 and i%2 == 1:\n",
    "        driver.find_element(By.XPATH, '//*[@id=\"listForm\"]/div/section/ul/li[1]/div/div/ul/li[4]/a').click()\n",
    "        time.sleep(2)\n",
    "    soup = BeautifulSoup(driver.page_source, 'html.parser')\n",
    "    lis = soup.select('.stations-list > li')\n",
    "    for li in lis:\n",
    "        name = li.select_one('.title').get_text().strip()\n",
    "        addr = li.find('address').string.strip()\n",
    "        tel = li.select_one('.tel').get_text().strip()\n",
    "        lines.append([name, addr, tel])    "
   ]
  },
  {
   "cell_type": "code",
   "execution_count": null,
   "id": "7e52d828",
   "metadata": {
    "id": "7e52d828",
    "outputId": "fc5332bf-aa65-4e15-e82f-08e22dd9800d"
   },
   "outputs": [
    {
     "data": {
      "text/plain": [
       "100"
      ]
     },
     "execution_count": 13,
     "metadata": {},
     "output_type": "execute_result"
    }
   ],
   "source": [
    "len(lines)"
   ]
  },
  {
   "cell_type": "code",
   "execution_count": null,
   "id": "c720ef48",
   "metadata": {
    "id": "c720ef48",
    "outputId": "36750751-7def-4430-809e-8400e29c6ee0"
   },
   "outputs": [
    {
     "data": {
      "text/html": [
       "<div>\n",
       "<style scoped>\n",
       "    .dataframe tbody tr th:only-of-type {\n",
       "        vertical-align: middle;\n",
       "    }\n",
       "\n",
       "    .dataframe tbody tr th {\n",
       "        vertical-align: top;\n",
       "    }\n",
       "\n",
       "    .dataframe thead th {\n",
       "        text-align: right;\n",
       "    }\n",
       "</style>\n",
       "<table border=\"1\" class=\"dataframe\">\n",
       "  <thead>\n",
       "    <tr style=\"text-align: right;\">\n",
       "      <th></th>\n",
       "      <th>관서명</th>\n",
       "      <th>주소</th>\n",
       "      <th>전화번호</th>\n",
       "    </tr>\n",
       "  </thead>\n",
       "  <tbody>\n",
       "    <tr>\n",
       "      <th>0</th>\n",
       "      <td>동작소방서</td>\n",
       "      <td>서울특별시 동작구 여의대방로16길 55(신대방동)</td>\n",
       "      <td>02-847-1190</td>\n",
       "    </tr>\n",
       "    <tr>\n",
       "      <th>1</th>\n",
       "      <td>서대문소방서</td>\n",
       "      <td>서울특별시 서대문구 연희로 182(연희동)</td>\n",
       "      <td>02-3144-1190</td>\n",
       "    </tr>\n",
       "    <tr>\n",
       "      <th>2</th>\n",
       "      <td>광진소방서</td>\n",
       "      <td>서울특별시 광진구 광나루로 480(구의동)</td>\n",
       "      <td>02-457-0119</td>\n",
       "    </tr>\n",
       "    <tr>\n",
       "      <th>3</th>\n",
       "      <td>송파소방서</td>\n",
       "      <td>서울특별시 송파구 오금로51길 56(마천동)</td>\n",
       "      <td>02-403-2119</td>\n",
       "    </tr>\n",
       "    <tr>\n",
       "      <th>4</th>\n",
       "      <td>양천소방서</td>\n",
       "      <td>서울특별시 양천구 목동서로 180(목동)</td>\n",
       "      <td>02-2655-1119</td>\n",
       "    </tr>\n",
       "    <tr>\n",
       "      <th>...</th>\n",
       "      <td>...</td>\n",
       "      <td>...</td>\n",
       "      <td>...</td>\n",
       "    </tr>\n",
       "    <tr>\n",
       "      <th>95</th>\n",
       "      <td>송파소방서-운동장-119 안전센터</td>\n",
       "      <td>서울특별시 송파구 올림픽로 25 (잠실동)</td>\n",
       "      <td>02-2203-2380</td>\n",
       "    </tr>\n",
       "    <tr>\n",
       "      <th>96</th>\n",
       "      <td>송파소방서-잠실-119 안전센터</td>\n",
       "      <td>서울특별시 송파구 석촌호수로 151 (잠실동)</td>\n",
       "      <td>02-422-0119</td>\n",
       "    </tr>\n",
       "    <tr>\n",
       "      <th>97</th>\n",
       "      <td>송파소방서-방이-119 안전센터</td>\n",
       "      <td>서울특별시 송파구 강동대로 286 (방이동)</td>\n",
       "      <td>02-409-0059</td>\n",
       "    </tr>\n",
       "    <tr>\n",
       "      <th>98</th>\n",
       "      <td>송파소방서-거여-119 안전센터</td>\n",
       "      <td>서울특별시 송파구 마천로 329 (마천동)</td>\n",
       "      <td>02-400-0119</td>\n",
       "    </tr>\n",
       "    <tr>\n",
       "      <th>99</th>\n",
       "      <td>송파소방서-마천-119 안전센터</td>\n",
       "      <td>서울특별시 송파구 오금로51길 56 (마천동)</td>\n",
       "      <td>02-3401-2119</td>\n",
       "    </tr>\n",
       "  </tbody>\n",
       "</table>\n",
       "<p>100 rows × 3 columns</p>\n",
       "</div>"
      ],
      "text/plain": [
       "                   관서명                           주소          전화번호\n",
       "0                동작소방서  서울특별시 동작구 여의대방로16길 55(신대방동)   02-847-1190\n",
       "1               서대문소방서      서울특별시 서대문구 연희로 182(연희동)  02-3144-1190\n",
       "2                광진소방서      서울특별시 광진구 광나루로 480(구의동)   02-457-0119\n",
       "3                송파소방서     서울특별시 송파구 오금로51길 56(마천동)   02-403-2119\n",
       "4                양천소방서       서울특별시 양천구 목동서로 180(목동)  02-2655-1119\n",
       "..                 ...                          ...           ...\n",
       "95  송파소방서-운동장-119 안전센터      서울특별시 송파구 올림픽로 25 (잠실동)  02-2203-2380\n",
       "96   송파소방서-잠실-119 안전센터    서울특별시 송파구 석촌호수로 151 (잠실동)   02-422-0119\n",
       "97   송파소방서-방이-119 안전센터     서울특별시 송파구 강동대로 286 (방이동)   02-409-0059\n",
       "98   송파소방서-거여-119 안전센터      서울특별시 송파구 마천로 329 (마천동)   02-400-0119\n",
       "99   송파소방서-마천-119 안전센터    서울특별시 송파구 오금로51길 56 (마천동)  02-3401-2119\n",
       "\n",
       "[100 rows x 3 columns]"
      ]
     },
     "execution_count": 14,
     "metadata": {},
     "output_type": "execute_result"
    }
   ],
   "source": [
    "df = pd.DataFrame(lines, columns = ['관서명', '주소', '전화번호'])\n",
    "df"
   ]
  },
  {
   "cell_type": "code",
   "execution_count": null,
   "id": "16508c5f",
   "metadata": {
    "id": "16508c5f",
    "outputId": "e3a65003-8e78-44bc-921e-5e6d60f0f38e"
   },
   "outputs": [
    {
     "data": {
      "text/plain": [
       "100"
      ]
     },
     "execution_count": 15,
     "metadata": {},
     "output_type": "execute_result"
    }
   ],
   "source": [
    "len(df['관서명'].unique())"
   ]
  },
  {
   "cell_type": "code",
   "execution_count": null,
   "id": "4a441791",
   "metadata": {
    "id": "4a441791"
   },
   "outputs": [],
   "source": [
    "df.to_csv('서울소방서.csv', index=False)"
   ]
  },
  {
   "cell_type": "markdown",
   "id": "7df267dc",
   "metadata": {
    "id": "7df267dc"
   },
   "source": [
    "##  카카오 api 사용해서 위도경도 가져오기"
   ]
  },
  {
   "cell_type": "code",
   "execution_count": null,
   "id": "dfe26e7c",
   "metadata": {
    "id": "dfe26e7c"
   },
   "outputs": [],
   "source": [
    "import requests\n",
    "from urllib.parse import quote"
   ]
  },
  {
   "cell_type": "code",
   "execution_count": null,
   "id": "5470c82b",
   "metadata": {
    "id": "5470c82b"
   },
   "outputs": [],
   "source": [
    "with open ('kakao.txt') as file:\n",
    "    kakao_key = file.read()"
   ]
  },
  {
   "cell_type": "code",
   "execution_count": null,
   "id": "f111376f",
   "metadata": {
    "id": "f111376f"
   },
   "outputs": [],
   "source": [
    "local_url = 'https://dapi.kakao.com/v2/local/search/address.json'\n",
    "header = {'Authorization':f'KakaoAK {kakao_key}'}"
   ]
  },
  {
   "cell_type": "code",
   "execution_count": null,
   "id": "aa88dd5f",
   "metadata": {
    "id": "aa88dd5f",
    "outputId": "c2ba82f1-6f1c-46fc-fe3f-5ef492405e20"
   },
   "outputs": [
    {
     "name": "stdout",
     "output_type": "stream",
     "text": [
      "은평소방서-수색-119 안전센터\n"
     ]
    }
   ],
   "source": [
    "# 반복문을 통해서 모든 소방청 위도 경도 좌표 구하기\n",
    "lng_list, lat_list = [], []\n",
    "for i in df.index:\n",
    "    url = f'{local_url}?query={quote(df.주소[i])}'\n",
    "    result = requests.get(url, headers=header).json()\n",
    "    try: \n",
    "        lng_list.append(float(result['documents'][0]['x']))\n",
    "        lat_list.append(float(result['documents'][0]['y']))\n",
    "    except:\n",
    "        print(df.관서명[i])"
   ]
  },
  {
   "cell_type": "code",
   "execution_count": null,
   "id": "55b3e294",
   "metadata": {
    "id": "55b3e294",
    "outputId": "e110b723-0bc3-4b0b-dfca-3cf31b054b18"
   },
   "outputs": [
    {
     "data": {
      "text/plain": [
       "30    서울특별시 은평구 수색로 294 (수색동)\n",
       "Name: 주소, dtype: object"
      ]
     },
     "execution_count": 32,
     "metadata": {},
     "output_type": "execute_result"
    }
   ],
   "source": [
    "df[df.관서명.isin(['은평소방서-수색-119 안전센터'])].주소"
   ]
  },
  {
   "cell_type": "code",
   "execution_count": null,
   "id": "a923491e",
   "metadata": {
    "id": "a923491e",
    "outputId": "8bf2947f-74de-444f-a351-51bc9a4e58fe"
   },
   "outputs": [
    {
     "data": {
      "text/plain": [
       "{'documents': [],\n",
       " 'meta': {'is_end': True, 'pageable_count': 0, 'total_count': 0}}"
      ]
     },
     "execution_count": 35,
     "metadata": {},
     "output_type": "execute_result"
    }
   ],
   "source": [
    "url = f'{local_url}?query={quote(\"서울특별시 은평구 수색로 294\")}'\n",
    "result = requests.get(url, headers=header).json()\n",
    "result"
   ]
  },
  {
   "cell_type": "code",
   "execution_count": null,
   "id": "532b1abb",
   "metadata": {
    "id": "532b1abb",
    "outputId": "b64ddc44-619d-4b65-ad6b-5da12d2303e8"
   },
   "outputs": [
    {
     "data": {
      "text/plain": [
       "5    서울특별시 은평구 통일로 962(진관동)\n",
       "Name: 주소, dtype: object"
      ]
     },
     "execution_count": 36,
     "metadata": {},
     "output_type": "execute_result"
    }
   ],
   "source": [
    "df[df.관서명.isin(['은평소방서'])].주소"
   ]
  },
  {
   "cell_type": "code",
   "execution_count": null,
   "id": "170bcc96",
   "metadata": {
    "id": "170bcc96"
   },
   "outputs": [],
   "source": [
    "df.주소[30] = '서울특별시 은평구 통일로 962'"
   ]
  },
  {
   "cell_type": "code",
   "execution_count": null,
   "id": "a1dceeca",
   "metadata": {
    "id": "a1dceeca"
   },
   "outputs": [],
   "source": [
    "lng_list, lat_list = [], []\n",
    "for i in df.index:\n",
    "    url = f'{local_url}?query={quote(df.주소[i])}'\n",
    "    result = requests.get(url, headers=header).json()\n",
    "    try: \n",
    "        lng_list.append(float(result['documents'][0]['x']))\n",
    "        lat_list.append(float(result['documents'][0]['y']))\n",
    "    except:\n",
    "        print(df.관서명[i])"
   ]
  },
  {
   "cell_type": "code",
   "execution_count": null,
   "id": "24f645f4",
   "metadata": {
    "id": "24f645f4"
   },
   "outputs": [],
   "source": [
    "import folium"
   ]
  },
  {
   "cell_type": "code",
   "execution_count": null,
   "id": "8cf0e486",
   "metadata": {
    "id": "8cf0e486"
   },
   "outputs": [],
   "source": [
    "map  = folium.Map(location =[37.5502, 126.982], zoom_start=12)\n",
    "for i in df.index:\n",
    "    folium.Marker(\n",
    "        location=[df.위도[i], df.경도[i]],\n",
    "        tooltip = f'{df.관서명[i]}',\n",
    "        popup = folium.Popup(df.주소[i], max_width=200),\n",
    "        icon = folium.Icon(icon = 'glyphicon glyphicon-home')\n",
    "    ).add_to(map)\n",
    "title = '<h3 align=\"center\" style=\"font-size:20px> 서울소재 경찰서위치</h3>'\n",
    "map.get_root().html.add_child(folium.Element(title))\n",
    "map"
   ]
  }
 ],
 "metadata": {
  "colab": {
   "provenance": []
  },
  "kernelspec": {
   "display_name": "Python 3 (ipykernel)",
   "language": "python",
   "name": "python3"
  },
  "language_info": {
   "codemirror_mode": {
    "name": "ipython",
    "version": 3
   },
   "file_extension": ".py",
   "mimetype": "text/x-python",
   "name": "python",
   "nbconvert_exporter": "python",
   "pygments_lexer": "ipython3",
   "version": "3.9.12"
  }
 },
 "nbformat": 4,
 "nbformat_minor": 5
}
